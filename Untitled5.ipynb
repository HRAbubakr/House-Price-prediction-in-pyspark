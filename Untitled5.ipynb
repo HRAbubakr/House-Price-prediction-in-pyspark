{
  "nbformat": 4,
  "nbformat_minor": 0,
  "metadata": {
    "colab": {
      "name": "Untitled5.ipynb",
      "provenance": [],
      "collapsed_sections": []
    },
    "kernelspec": {
      "name": "python3",
      "display_name": "Python 3"
    },
    "language_info": {
      "name": "python"
    }
  },
  "cells": [
    {
      "cell_type": "code",
      "source": [
        "pip install pyspark"
      ],
      "metadata": {
        "colab": {
          "base_uri": "https://localhost:8080/"
        },
        "id": "652ctk58cG75",
        "outputId": "d7d46d6f-54a7-40dd-f868-601a5e900db0"
      },
      "execution_count": 1,
      "outputs": [
        {
          "output_type": "stream",
          "name": "stdout",
          "text": [
            "Looking in indexes: https://pypi.org/simple, https://us-python.pkg.dev/colab-wheels/public/simple/\n",
            "Collecting pyspark\n",
            "  Downloading pyspark-3.3.0.tar.gz (281.3 MB)\n",
            "\u001b[K     |████████████████████████████████| 281.3 MB 37 kB/s \n",
            "\u001b[?25hCollecting py4j==0.10.9.5\n",
            "  Downloading py4j-0.10.9.5-py2.py3-none-any.whl (199 kB)\n",
            "\u001b[K     |████████████████████████████████| 199 kB 28.6 MB/s \n",
            "\u001b[?25hBuilding wheels for collected packages: pyspark\n",
            "  Building wheel for pyspark (setup.py) ... \u001b[?25l\u001b[?25hdone\n",
            "  Created wheel for pyspark: filename=pyspark-3.3.0-py2.py3-none-any.whl size=281764026 sha256=6af16717e2ece45b910ec6e50a35a973956f594e6d33bb8b28867f323f830757\n",
            "  Stored in directory: /root/.cache/pip/wheels/7a/8e/1b/f73a52650d2e5f337708d9f6a1750d451a7349a867f928b885\n",
            "Successfully built pyspark\n",
            "Installing collected packages: py4j, pyspark\n",
            "Successfully installed py4j-0.10.9.5 pyspark-3.3.0\n"
          ]
        }
      ]
    },
    {
      "cell_type": "code",
      "execution_count": 2,
      "metadata": {
        "id": "JNz5Eiusb_L3"
      },
      "outputs": [],
      "source": [
        "import os\n",
        "import pandas as pd\n",
        "import numpy as np\n",
        "\n",
        "from pyspark import SparkConf, SparkContext\n",
        "from pyspark.sql import SparkSession, SQLContext\n",
        "\n",
        "from pyspark.sql.types import *\n",
        "import pyspark.sql.functions as F\n",
        "from pyspark.sql.functions import udf, col\n",
        "\n",
        "from pyspark.ml.regression import LinearRegression\n",
        "from pyspark.mllib.evaluation import RegressionMetrics\n",
        "\n",
        "from pyspark.ml.tuning import ParamGridBuilder, CrossValidator, CrossValidatorModel\n",
        "from pyspark.ml.feature import VectorAssembler, StandardScaler\n",
        "from pyspark.ml.evaluation import RegressionEvaluator"
      ]
    },
    {
      "cell_type": "code",
      "source": [
        "import seaborn as sns\n",
        "import matplotlib.pyplot as plt"
      ],
      "metadata": {
        "id": "-vK0m_dccAAV"
      },
      "execution_count": 3,
      "outputs": []
    },
    {
      "cell_type": "code",
      "source": [
        "# Visualization\n",
        "from IPython.core.interactiveshell import InteractiveShell\n",
        "InteractiveShell.ast_node_interactivity = \"all\"\n",
        "\n",
        "pd.set_option('display.max_columns', 200)\n",
        "pd.set_option('display.max_colwidth', 400)\n",
        "\n",
        "from matplotlib import rcParams\n",
        "sns.set(context='notebook', style='whitegrid', rc={'figure.figsize': (18,4)})\n",
        "rcParams['figure.figsize'] = 18,4\n",
        "\n",
        "%matplotlib inline\n",
        "%config InlineBackend.figure_format = 'retina'"
      ],
      "metadata": {
        "id": "AKsBHxI5cDv2"
      },
      "execution_count": 4,
      "outputs": []
    },
    {
      "cell_type": "code",
      "source": [
        "# setting random seed for notebook reproducability\n",
        "rnd_seed=23\n",
        "np.random.seed=rnd_seed\n",
        "np.random.set_state=rnd_seed"
      ],
      "metadata": {
        "id": "R8hBx8Vuc6vL"
      },
      "execution_count": 5,
      "outputs": []
    },
    {
      "cell_type": "code",
      "source": [
        "spark = SparkSession.builder.master(\"local[2]\").appName(\"Linear-Regression-California-Housing\").getOrCreate()"
      ],
      "metadata": {
        "id": "-m_aiumRc91S"
      },
      "execution_count": 6,
      "outputs": []
    },
    {
      "cell_type": "code",
      "source": [
        ""
      ],
      "metadata": {
        "id": "euSvAB1Hgs3V"
      },
      "execution_count": 6,
      "outputs": []
    },
    {
      "cell_type": "code",
      "source": [
        "sc = spark.sparkContext\n",
        "sc"
      ],
      "metadata": {
        "colab": {
          "base_uri": "https://localhost:8080/",
          "height": 196
        },
        "id": "arL9fpeTdA7M",
        "outputId": "85f04316-b99e-455b-f467-580cbfaf54b3"
      },
      "execution_count": 7,
      "outputs": [
        {
          "output_type": "execute_result",
          "data": {
            "text/plain": [
              "<SparkContext master=local[2] appName=Linear-Regression-California-Housing>"
            ],
            "text/html": [
              "\n",
              "        <div>\n",
              "            <p><b>SparkContext</b></p>\n",
              "\n",
              "            <p><a href=\"http://6725a9a72d88:4040\">Spark UI</a></p>\n",
              "\n",
              "            <dl>\n",
              "              <dt>Version</dt>\n",
              "                <dd><code>v3.3.0</code></dd>\n",
              "              <dt>Master</dt>\n",
              "                <dd><code>local[2]</code></dd>\n",
              "              <dt>AppName</dt>\n",
              "                <dd><code>Linear-Regression-California-Housing</code></dd>\n",
              "            </dl>\n",
              "        </div>\n",
              "        "
            ]
          },
          "metadata": {},
          "execution_count": 7
        }
      ]
    },
    {
      "cell_type": "code",
      "source": [
        "sqlContext = SQLContext(spark.sparkContext)\n",
        "sqlContext"
      ],
      "metadata": {
        "colab": {
          "base_uri": "https://localhost:8080/"
        },
        "id": "_tkWnFAGdH0F",
        "outputId": "bf8f630d-d18e-44aa-88c6-36c6369bde8b"
      },
      "execution_count": 8,
      "outputs": [
        {
          "output_type": "stream",
          "name": "stderr",
          "text": [
            "/usr/local/lib/python3.7/dist-packages/pyspark/sql/context.py:114: FutureWarning: Deprecated in 3.0.0. Use SparkSession.builder.getOrCreate() instead.\n",
            "  FutureWarning,\n"
          ]
        },
        {
          "output_type": "execute_result",
          "data": {
            "text/plain": [
              "<pyspark.sql.context.SQLContext at 0x7f50b1356b10>"
            ]
          },
          "metadata": {},
          "execution_count": 8
        }
      ]
    },
    {
      "cell_type": "code",
      "source": [
        "HOUSING_DATA = '../input/cal_housing.data'"
      ],
      "metadata": {
        "id": "o8sJBTYldIKh"
      },
      "execution_count": 9,
      "outputs": []
    },
    {
      "cell_type": "code",
      "source": [
        "# define the schema, corresponding to a line in the csv data file.\n",
        "schema = StructType([\n",
        "    StructField(\"long\", FloatType(), nullable=True),\n",
        "    StructField(\"lat\", FloatType(), nullable=True),\n",
        "    StructField(\"medage\", FloatType(), nullable=True),\n",
        "    StructField(\"totrooms\", FloatType(), nullable=True),\n",
        "    StructField(\"totbdrms\", FloatType(), nullable=True),\n",
        "    StructField(\"pop\", FloatType(), nullable=True),\n",
        "    StructField(\"houshlds\", FloatType(), nullable=True),\n",
        "    StructField(\"medinc\", FloatType(), nullable=True),\n",
        "    StructField(\"medhv\", FloatType(), nullable=True)]\n",
        ")"
      ],
      "metadata": {
        "id": "CHvA4VRvdQPA"
      },
      "execution_count": 10,
      "outputs": []
    },
    {
      "cell_type": "code",
      "source": [
        "# Load housing data\n",
        "housing_df = spark.read.csv(\"Book2.csv\", schema=schema).cache()\n",
        "housing_df\n"
      ],
      "metadata": {
        "id": "b2qV2RI-dUDx",
        "colab": {
          "base_uri": "https://localhost:8080/"
        },
        "outputId": "7eec33f7-8439-4b4e-8a0e-3e1ec73a2036"
      },
      "execution_count": 11,
      "outputs": [
        {
          "output_type": "execute_result",
          "data": {
            "text/plain": [
              "DataFrame[long: float, lat: float, medage: float, totrooms: float, totbdrms: float, pop: float, houshlds: float, medinc: float, medhv: float]"
            ]
          },
          "metadata": {},
          "execution_count": 11
        }
      ]
    },
    {
      "cell_type": "code",
      "source": [
        ""
      ],
      "metadata": {
        "id": "uL4HUvl52oTg"
      },
      "execution_count": 11,
      "outputs": []
    },
    {
      "cell_type": "code",
      "source": [
        "housing_df.count()"
      ],
      "metadata": {
        "colab": {
          "base_uri": "https://localhost:8080/"
        },
        "id": "FBm9KSmc2gVA",
        "outputId": "b9d76877-5b7c-4389-d204-d7e8c4115ec1"
      },
      "execution_count": 12,
      "outputs": [
        {
          "output_type": "execute_result",
          "data": {
            "text/plain": [
              "20640"
            ]
          },
          "metadata": {},
          "execution_count": 12
        }
      ]
    },
    {
      "cell_type": "code",
      "source": [
        "# Inspect first five rows\n",
        "housing_df.take(5)"
      ],
      "metadata": {
        "id": "6Mbl4CFFdW36",
        "colab": {
          "base_uri": "https://localhost:8080/"
        },
        "outputId": "538ec162-70f7-4c5c-a4d2-525609c48b8d"
      },
      "execution_count": 13,
      "outputs": [
        {
          "output_type": "execute_result",
          "data": {
            "text/plain": [
              "[Row(long=-122.2300033569336, lat=37.880001068115234, medage=41.0, totrooms=880.0, totbdrms=129.0, pop=322.0, houshlds=126.0, medinc=8.325200080871582, medhv=452600.0),\n",
              " Row(long=-122.22000122070312, lat=37.86000061035156, medage=21.0, totrooms=7099.0, totbdrms=1106.0, pop=2401.0, houshlds=1138.0, medinc=8.301400184631348, medhv=358500.0),\n",
              " Row(long=-122.23999786376953, lat=37.849998474121094, medage=52.0, totrooms=1467.0, totbdrms=190.0, pop=496.0, houshlds=177.0, medinc=7.257400035858154, medhv=352100.0),\n",
              " Row(long=-122.25, lat=37.849998474121094, medage=52.0, totrooms=1274.0, totbdrms=235.0, pop=558.0, houshlds=219.0, medinc=5.643099784851074, medhv=341300.0),\n",
              " Row(long=-122.25, lat=37.849998474121094, medage=52.0, totrooms=1627.0, totbdrms=280.0, pop=565.0, houshlds=259.0, medinc=3.8461999893188477, medhv=342200.0)]"
            ]
          },
          "metadata": {},
          "execution_count": 13
        }
      ]
    },
    {
      "cell_type": "code",
      "source": [
        "# Show first Ten rows\n",
        "housing_df.show(10)"
      ],
      "metadata": {
        "colab": {
          "base_uri": "https://localhost:8080/"
        },
        "id": "5d5QH6kL0sCY",
        "outputId": "1b8d86eb-2506-4a44-cbbe-6f112e939a9c"
      },
      "execution_count": 14,
      "outputs": [
        {
          "output_type": "stream",
          "name": "stdout",
          "text": [
            "+-------+-----+------+--------+--------+------+--------+------+--------+\n",
            "|   long|  lat|medage|totrooms|totbdrms|   pop|houshlds|medinc|   medhv|\n",
            "+-------+-----+------+--------+--------+------+--------+------+--------+\n",
            "|-122.23|37.88|  41.0|   880.0|   129.0| 322.0|   126.0|8.3252|452600.0|\n",
            "|-122.22|37.86|  21.0|  7099.0|  1106.0|2401.0|  1138.0|8.3014|358500.0|\n",
            "|-122.24|37.85|  52.0|  1467.0|   190.0| 496.0|   177.0|7.2574|352100.0|\n",
            "|-122.25|37.85|  52.0|  1274.0|   235.0| 558.0|   219.0|5.6431|341300.0|\n",
            "|-122.25|37.85|  52.0|  1627.0|   280.0| 565.0|   259.0|3.8462|342200.0|\n",
            "|-122.25|37.85|  52.0|   919.0|   213.0| 413.0|   193.0|4.0368|269700.0|\n",
            "|-122.25|37.84|  52.0|  2535.0|   489.0|1094.0|   514.0|3.6591|299200.0|\n",
            "|-122.25|37.84|  52.0|  3104.0|   687.0|1157.0|   647.0|  3.12|241400.0|\n",
            "|-122.26|37.84|  42.0|  2555.0|   665.0|1206.0|   595.0|2.0804|226700.0|\n",
            "|-122.25|37.84|  52.0|  3549.0|   707.0|1551.0|   714.0|3.6912|261100.0|\n",
            "+-------+-----+------+--------+--------+------+--------+------+--------+\n",
            "only showing top 10 rows\n",
            "\n"
          ]
        }
      ]
    },
    {
      "cell_type": "code",
      "source": [
        "# show the schema of the dataframe\n",
        "housing_df.printSchema()"
      ],
      "metadata": {
        "colab": {
          "base_uri": "https://localhost:8080/"
        },
        "id": "I7c3JX1c1Jdq",
        "outputId": "0dc37a42-0405-4e6f-99fe-c530677ac848"
      },
      "execution_count": 15,
      "outputs": [
        {
          "output_type": "stream",
          "name": "stdout",
          "text": [
            "root\n",
            " |-- long: float (nullable = true)\n",
            " |-- lat: float (nullable = true)\n",
            " |-- medage: float (nullable = true)\n",
            " |-- totrooms: float (nullable = true)\n",
            " |-- totbdrms: float (nullable = true)\n",
            " |-- pop: float (nullable = true)\n",
            " |-- houshlds: float (nullable = true)\n",
            " |-- medinc: float (nullable = true)\n",
            " |-- medhv: float (nullable = true)\n",
            "\n"
          ]
        }
      ]
    },
    {
      "cell_type": "code",
      "source": [
        "# show the dataframe columns\n",
        "housing_df.columns"
      ],
      "metadata": {
        "colab": {
          "base_uri": "https://localhost:8080/"
        },
        "id": "yKmvK1AN1dao",
        "outputId": "2dd160cf-8762-4365-f2f1-e04c53e57c05"
      },
      "execution_count": 16,
      "outputs": [
        {
          "output_type": "execute_result",
          "data": {
            "text/plain": [
              "['long',\n",
              " 'lat',\n",
              " 'medage',\n",
              " 'totrooms',\n",
              " 'totbdrms',\n",
              " 'pop',\n",
              " 'houshlds',\n",
              " 'medinc',\n",
              " 'medhv']"
            ]
          },
          "metadata": {},
          "execution_count": 16
        }
      ]
    },
    {
      "cell_type": "code",
      "source": [
        "# show the schema of the dataframe\n",
        "housing_df.printSchema()"
      ],
      "metadata": {
        "colab": {
          "base_uri": "https://localhost:8080/"
        },
        "id": "LXhj_daN3MGX",
        "outputId": "2ba4ab22-86e6-423a-9876-4b98d61c6a79"
      },
      "execution_count": 17,
      "outputs": [
        {
          "output_type": "stream",
          "name": "stdout",
          "text": [
            "root\n",
            " |-- long: float (nullable = true)\n",
            " |-- lat: float (nullable = true)\n",
            " |-- medage: float (nullable = true)\n",
            " |-- totrooms: float (nullable = true)\n",
            " |-- totbdrms: float (nullable = true)\n",
            " |-- pop: float (nullable = true)\n",
            " |-- houshlds: float (nullable = true)\n",
            " |-- medinc: float (nullable = true)\n",
            " |-- medhv: float (nullable = true)\n",
            "\n"
          ]
        }
      ]
    },
    {
      "cell_type": "code",
      "source": [
        "# run a sample selection\n",
        "housing_df.select('pop','totbdrms').show(15)"
      ],
      "metadata": {
        "colab": {
          "base_uri": "https://localhost:8080/"
        },
        "id": "OUDQYjgV3TwS",
        "outputId": "489e7aef-0404-4b40-c9b0-885252abd0c2"
      },
      "execution_count": 18,
      "outputs": [
        {
          "output_type": "stream",
          "name": "stdout",
          "text": [
            "+------+--------+\n",
            "|   pop|totbdrms|\n",
            "+------+--------+\n",
            "| 322.0|   129.0|\n",
            "|2401.0|  1106.0|\n",
            "| 496.0|   190.0|\n",
            "| 558.0|   235.0|\n",
            "| 565.0|   280.0|\n",
            "| 413.0|   213.0|\n",
            "|1094.0|   489.0|\n",
            "|1157.0|   687.0|\n",
            "|1206.0|   665.0|\n",
            "|1551.0|   707.0|\n",
            "| 910.0|   434.0|\n",
            "|1504.0|   752.0|\n",
            "|1098.0|   474.0|\n",
            "| 345.0|   191.0|\n",
            "|1212.0|   626.0|\n",
            "+------+--------+\n",
            "only showing top 15 rows\n",
            "\n"
          ]
        }
      ]
    },
    {
      "cell_type": "code",
      "source": [
        "# group by housingmedianage and see the distribution\n",
        "result_df = housing_df.groupBy(\"medage\").count().sort(\"medage\", ascending=False)\n"
      ],
      "metadata": {
        "id": "IekdhHj23Zw7"
      },
      "execution_count": 19,
      "outputs": []
    },
    {
      "cell_type": "code",
      "source": [
        "result_df.show(10)"
      ],
      "metadata": {
        "colab": {
          "base_uri": "https://localhost:8080/"
        },
        "id": "TVp-R6943lUR",
        "outputId": "1482d8b0-7a44-4260-dffb-96bd20bd4161"
      },
      "execution_count": 20,
      "outputs": [
        {
          "output_type": "stream",
          "name": "stdout",
          "text": [
            "+------+-----+\n",
            "|medage|count|\n",
            "+------+-----+\n",
            "|  52.0| 1273|\n",
            "|  51.0|   48|\n",
            "|  50.0|  136|\n",
            "|  49.0|  134|\n",
            "|  48.0|  177|\n",
            "|  47.0|  198|\n",
            "|  46.0|  245|\n",
            "|  45.0|  294|\n",
            "|  44.0|  356|\n",
            "|  43.0|  353|\n",
            "+------+-----+\n",
            "only showing top 10 rows\n",
            "\n"
          ]
        }
      ]
    },
    {
      "cell_type": "code",
      "source": [
        "result_df.toPandas().plot.bar(x='medage',figsize=(15, 8))"
      ],
      "metadata": {
        "colab": {
          "base_uri": "https://localhost:8080/",
          "height": 533
        },
        "id": "pHYDnxP_33II",
        "outputId": "98eae050-7f3e-46d4-dbe6-abb3f1ea3f3f"
      },
      "execution_count": 21,
      "outputs": [
        {
          "output_type": "execute_result",
          "data": {
            "text/plain": [
              "<matplotlib.axes._subplots.AxesSubplot at 0x7f50b024ed50>"
            ]
          },
          "metadata": {},
          "execution_count": 21
        },
        {
          "output_type": "display_data",
          "data": {
            "text/plain": [
              "<Figure size 1080x576 with 1 Axes>"
            ],
            "image/png": "[encoded data removed]"
          },
          "metadata": {
            "image/png": {
              "width": 889,
              "height": 499
            },
            "needs_background": "light"
          }
        }
      ]
    },
    {
      "cell_type": "code",
      "source": [
        "(housing_df.describe().select(\n",
        "                    \"summary\",\n",
        "                    F.round(\"medage\", 4).alias(\"medage\"),\n",
        "                    F.round(\"totrooms\", 4).alias(\"totrooms\"),\n",
        "                    F.round(\"totbdrms\", 4).alias(\"totbdrms\"),\n",
        "                    F.round(\"pop\", 4).alias(\"pop\"),\n",
        "                    F.round(\"houshlds\", 4).alias(\"houshlds\"),\n",
        "                    F.round(\"medinc\", 4).alias(\"medinc\"),\n",
        "                    F.round(\"medhv\", 4).alias(\"medhv\"))\n",
        "                    .show())"
      ],
      "metadata": {
        "colab": {
          "base_uri": "https://localhost:8080/"
        },
        "id": "GzkaDqQI39pr",
        "outputId": "75f49499-4009-4e96-d4ff-a3d654081036"
      },
      "execution_count": 22,
      "outputs": [
        {
          "output_type": "stream",
          "name": "stdout",
          "text": [
            "+-------+-------+---------+--------+---------+--------+-------+-----------+\n",
            "|summary| medage| totrooms|totbdrms|      pop|houshlds| medinc|      medhv|\n",
            "+-------+-------+---------+--------+---------+--------+-------+-----------+\n",
            "|  count|20640.0|  20640.0| 20640.0|  20640.0| 20640.0|20640.0|    20640.0|\n",
            "|   mean|28.6395|2635.7631| 537.898|1425.4767|499.5397| 3.8707|206855.8169|\n",
            "| stddev|12.5856|2181.6153|421.2479|1132.4621|382.3298| 1.8998|115395.6159|\n",
            "|    min|    1.0|      2.0|     1.0|      3.0|     1.0| 0.4999|    14999.0|\n",
            "|    max|   52.0|  39320.0|  6445.0|  35682.0|  6082.0|15.0001|   500001.0|\n",
            "+-------+-------+---------+--------+---------+--------+-------+-----------+\n",
            "\n"
          ]
        }
      ]
    },
    {
      "cell_type": "code",
      "source": [
        "# Adjust the values of `medianHouseValue`\n",
        "housing_df = housing_df.withColumn(\"medhv\", col(\"medhv\")/100000)"
      ],
      "metadata": {
        "id": "OO_T6-0w4ILq"
      },
      "execution_count": 23,
      "outputs": []
    },
    {
      "cell_type": "code",
      "source": [
        "# Show the first 20 lines of `df`\n",
        "housing_df.show(20)"
      ],
      "metadata": {
        "colab": {
          "base_uri": "https://localhost:8080/"
        },
        "id": "SnodV9aj4WXI",
        "outputId": "4116838f-b7f8-4f38-9e0d-f27ee23a02a0"
      },
      "execution_count": 24,
      "outputs": [
        {
          "output_type": "stream",
          "name": "stdout",
          "text": [
            "+-------+-----+------+--------+--------+------+--------+------+-----+\n",
            "|   long|  lat|medage|totrooms|totbdrms|   pop|houshlds|medinc|medhv|\n",
            "+-------+-----+------+--------+--------+------+--------+------+-----+\n",
            "|-122.23|37.88|  41.0|   880.0|   129.0| 322.0|   126.0|8.3252|4.526|\n",
            "|-122.22|37.86|  21.0|  7099.0|  1106.0|2401.0|  1138.0|8.3014|3.585|\n",
            "|-122.24|37.85|  52.0|  1467.0|   190.0| 496.0|   177.0|7.2574|3.521|\n",
            "|-122.25|37.85|  52.0|  1274.0|   235.0| 558.0|   219.0|5.6431|3.413|\n",
            "|-122.25|37.85|  52.0|  1627.0|   280.0| 565.0|   259.0|3.8462|3.422|\n",
            "|-122.25|37.85|  52.0|   919.0|   213.0| 413.0|   193.0|4.0368|2.697|\n",
            "|-122.25|37.84|  52.0|  2535.0|   489.0|1094.0|   514.0|3.6591|2.992|\n",
            "|-122.25|37.84|  52.0|  3104.0|   687.0|1157.0|   647.0|  3.12|2.414|\n",
            "|-122.26|37.84|  42.0|  2555.0|   665.0|1206.0|   595.0|2.0804|2.267|\n",
            "|-122.25|37.84|  52.0|  3549.0|   707.0|1551.0|   714.0|3.6912|2.611|\n",
            "|-122.26|37.85|  52.0|  2202.0|   434.0| 910.0|   402.0|3.2031|2.815|\n",
            "|-122.26|37.85|  52.0|  3503.0|   752.0|1504.0|   734.0|3.2705|2.418|\n",
            "|-122.26|37.85|  52.0|  2491.0|   474.0|1098.0|   468.0| 3.075|2.135|\n",
            "|-122.26|37.84|  52.0|   696.0|   191.0| 345.0|   174.0|2.6736|1.913|\n",
            "|-122.26|37.85|  52.0|  2643.0|   626.0|1212.0|   620.0|1.9167|1.592|\n",
            "|-122.26|37.85|  50.0|  1120.0|   283.0| 697.0|   264.0| 2.125|  1.4|\n",
            "|-122.27|37.85|  52.0|  1966.0|   347.0| 793.0|   331.0| 2.775|1.525|\n",
            "|-122.27|37.85|  52.0|  1228.0|   293.0| 648.0|   303.0|2.1202|1.555|\n",
            "|-122.26|37.84|  50.0|  2239.0|   455.0| 990.0|   419.0|1.9911|1.587|\n",
            "|-122.27|37.84|  52.0|  1503.0|   298.0| 690.0|   275.0|2.6033|1.629|\n",
            "+-------+-----+------+--------+--------+------+--------+------+-----+\n",
            "only showing top 20 rows\n",
            "\n"
          ]
        }
      ]
    },
    {
      "cell_type": "code",
      "source": [
        "housing_df.columns"
      ],
      "metadata": {
        "colab": {
          "base_uri": "https://localhost:8080/"
        },
        "id": "W4oCOwGA4aFe",
        "outputId": "15cd8cfd-791c-4536-cdbd-c6f1b31386f2"
      },
      "execution_count": 25,
      "outputs": [
        {
          "output_type": "execute_result",
          "data": {
            "text/plain": [
              "['long',\n",
              " 'lat',\n",
              " 'medage',\n",
              " 'totrooms',\n",
              " 'totbdrms',\n",
              " 'pop',\n",
              " 'houshlds',\n",
              " 'medinc',\n",
              " 'medhv']"
            ]
          },
          "metadata": {},
          "execution_count": 25
        }
      ]
    },
    {
      "cell_type": "code",
      "source": [
        "# Add the new columns to `df`\n",
        "housing_df = (housing_df.withColumn(\"rmsperhh\", F.round(col(\"totrooms\")/col(\"houshlds\"), 2))\n",
        "                       .withColumn(\"popperhh\", F.round(col(\"pop\")/col(\"houshlds\"), 2))\n",
        "                       .withColumn(\"bdrmsperrm\", F.round(col(\"totbdrms\")/col(\"totrooms\"), 2)))"
      ],
      "metadata": {
        "id": "wvBTmF584hTX"
      },
      "execution_count": 26,
      "outputs": []
    },
    {
      "cell_type": "code",
      "source": [
        "# Inspect the result\n",
        "housing_df.show(15)"
      ],
      "metadata": {
        "colab": {
          "base_uri": "https://localhost:8080/"
        },
        "id": "UOAc6RAP4lYL",
        "outputId": "7b96c265-d16e-4c44-9cc7-6b23fb0e3a31"
      },
      "execution_count": 27,
      "outputs": [
        {
          "output_type": "stream",
          "name": "stdout",
          "text": [
            "+-------+-----+------+--------+--------+------+--------+------+-----+--------+--------+----------+\n",
            "|   long|  lat|medage|totrooms|totbdrms|   pop|houshlds|medinc|medhv|rmsperhh|popperhh|bdrmsperrm|\n",
            "+-------+-----+------+--------+--------+------+--------+------+-----+--------+--------+----------+\n",
            "|-122.23|37.88|  41.0|   880.0|   129.0| 322.0|   126.0|8.3252|4.526|    6.98|    2.56|      0.15|\n",
            "|-122.22|37.86|  21.0|  7099.0|  1106.0|2401.0|  1138.0|8.3014|3.585|    6.24|    2.11|      0.16|\n",
            "|-122.24|37.85|  52.0|  1467.0|   190.0| 496.0|   177.0|7.2574|3.521|    8.29|     2.8|      0.13|\n",
            "|-122.25|37.85|  52.0|  1274.0|   235.0| 558.0|   219.0|5.6431|3.413|    5.82|    2.55|      0.18|\n",
            "|-122.25|37.85|  52.0|  1627.0|   280.0| 565.0|   259.0|3.8462|3.422|    6.28|    2.18|      0.17|\n",
            "|-122.25|37.85|  52.0|   919.0|   213.0| 413.0|   193.0|4.0368|2.697|    4.76|    2.14|      0.23|\n",
            "|-122.25|37.84|  52.0|  2535.0|   489.0|1094.0|   514.0|3.6591|2.992|    4.93|    2.13|      0.19|\n",
            "|-122.25|37.84|  52.0|  3104.0|   687.0|1157.0|   647.0|  3.12|2.414|     4.8|    1.79|      0.22|\n",
            "|-122.26|37.84|  42.0|  2555.0|   665.0|1206.0|   595.0|2.0804|2.267|    4.29|    2.03|      0.26|\n",
            "|-122.25|37.84|  52.0|  3549.0|   707.0|1551.0|   714.0|3.6912|2.611|    4.97|    2.17|       0.2|\n",
            "|-122.26|37.85|  52.0|  2202.0|   434.0| 910.0|   402.0|3.2031|2.815|    5.48|    2.26|       0.2|\n",
            "|-122.26|37.85|  52.0|  3503.0|   752.0|1504.0|   734.0|3.2705|2.418|    4.77|    2.05|      0.21|\n",
            "|-122.26|37.85|  52.0|  2491.0|   474.0|1098.0|   468.0| 3.075|2.135|    5.32|    2.35|      0.19|\n",
            "|-122.26|37.84|  52.0|   696.0|   191.0| 345.0|   174.0|2.6736|1.913|     4.0|    1.98|      0.27|\n",
            "|-122.26|37.85|  52.0|  2643.0|   626.0|1212.0|   620.0|1.9167|1.592|    4.26|    1.95|      0.24|\n",
            "+-------+-----+------+--------+--------+------+--------+------+-----+--------+--------+----------+\n",
            "only showing top 15 rows\n",
            "\n"
          ]
        }
      ]
    },
    {
      "cell_type": "code",
      "source": [
        "# Re-order and select columns\n",
        "housing_df = housing_df.select(\"medhv\", \n",
        "                              \"totbdrms\", \n",
        "                              \"pop\", \n",
        "                              \"houshlds\", \n",
        "                              \"medinc\", \n",
        "                              \"rmsperhh\", \n",
        "                              \"popperhh\", \n",
        "                              \"bdrmsperrm\")"
      ],
      "metadata": {
        "id": "UNT_4EQy4qaR"
      },
      "execution_count": 28,
      "outputs": []
    },
    {
      "cell_type": "code",
      "source": [
        "featureCols = [\"totbdrms\", \"pop\", \"houshlds\", \"medinc\", \"rmsperhh\", \"popperhh\", \"bdrmsperrm\"]\n",
        "featureCols"
      ],
      "metadata": {
        "colab": {
          "base_uri": "https://localhost:8080/"
        },
        "id": "uwEW0gtn4vcH",
        "outputId": "178fcfb4-efdf-41cf-a5ed-ff72d598d8cd"
      },
      "execution_count": 29,
      "outputs": [
        {
          "output_type": "execute_result",
          "data": {
            "text/plain": [
              "['totbdrms', 'pop', 'houshlds', 'medinc', 'rmsperhh', 'popperhh', 'bdrmsperrm']"
            ]
          },
          "metadata": {},
          "execution_count": 29
        }
      ]
    },
    {
      "cell_type": "code",
      "source": [
        "# put features into a feature vector column\n",
        "assembler = VectorAssembler(inputCols=featureCols, outputCol=\"features\") "
      ],
      "metadata": {
        "id": "c8oXGNwm4zvs"
      },
      "execution_count": 30,
      "outputs": []
    },
    {
      "cell_type": "code",
      "source": [
        "assembled_df = assembler.transform(housing_df)\n",
        "assembled_df"
      ],
      "metadata": {
        "colab": {
          "base_uri": "https://localhost:8080/"
        },
        "id": "-h8ojIil43xI",
        "outputId": "e607d657-2318-47fd-cb86-241193425894"
      },
      "execution_count": 31,
      "outputs": [
        {
          "output_type": "execute_result",
          "data": {
            "text/plain": [
              "DataFrame[medhv: double, totbdrms: float, pop: float, houshlds: float, medinc: float, rmsperhh: double, popperhh: double, bdrmsperrm: double, features: vector]"
            ]
          },
          "metadata": {},
          "execution_count": 31
        }
      ]
    },
    {
      "cell_type": "code",
      "source": [
        "assembled_df.show(20, truncate=False)"
      ],
      "metadata": {
        "colab": {
          "base_uri": "https://localhost:8080/"
        },
        "id": "_dFe8Jf-48Tw",
        "outputId": "1633c988-af00-4154-82b2-bda8917ed90a"
      },
      "execution_count": 32,
      "outputs": [
        {
          "output_type": "stream",
          "name": "stdout",
          "text": [
            "+-----+--------+------+--------+------+--------+--------+----------+-------------------------------------------------------+\n",
            "|medhv|totbdrms|pop   |houshlds|medinc|rmsperhh|popperhh|bdrmsperrm|features                                               |\n",
            "+-----+--------+------+--------+------+--------+--------+----------+-------------------------------------------------------+\n",
            "|4.526|129.0   |322.0 |126.0   |8.3252|6.98    |2.56    |0.15      |[129.0,322.0,126.0,8.325200080871582,6.98,2.56,0.15]   |\n",
            "|3.585|1106.0  |2401.0|1138.0  |8.3014|6.24    |2.11    |0.16      |[1106.0,2401.0,1138.0,8.301400184631348,6.24,2.11,0.16]|\n",
            "|3.521|190.0   |496.0 |177.0   |7.2574|8.29    |2.8     |0.13      |[190.0,496.0,177.0,7.257400035858154,8.29,2.8,0.13]    |\n",
            "|3.413|235.0   |558.0 |219.0   |5.6431|5.82    |2.55    |0.18      |[235.0,558.0,219.0,5.643099784851074,5.82,2.55,0.18]   |\n",
            "|3.422|280.0   |565.0 |259.0   |3.8462|6.28    |2.18    |0.17      |[280.0,565.0,259.0,3.8461999893188477,6.28,2.18,0.17]  |\n",
            "|2.697|213.0   |413.0 |193.0   |4.0368|4.76    |2.14    |0.23      |[213.0,413.0,193.0,4.036799907684326,4.76,2.14,0.23]   |\n",
            "|2.992|489.0   |1094.0|514.0   |3.6591|4.93    |2.13    |0.19      |[489.0,1094.0,514.0,3.65910005569458,4.93,2.13,0.19]   |\n",
            "|2.414|687.0   |1157.0|647.0   |3.12  |4.8     |1.79    |0.22      |[687.0,1157.0,647.0,3.119999885559082,4.8,1.79,0.22]   |\n",
            "|2.267|665.0   |1206.0|595.0   |2.0804|4.29    |2.03    |0.26      |[665.0,1206.0,595.0,2.080399990081787,4.29,2.03,0.26]  |\n",
            "|2.611|707.0   |1551.0|714.0   |3.6912|4.97    |2.17    |0.2       |[707.0,1551.0,714.0,3.691200017929077,4.97,2.17,0.2]   |\n",
            "|2.815|434.0   |910.0 |402.0   |3.2031|5.48    |2.26    |0.2       |[434.0,910.0,402.0,3.2030999660491943,5.48,2.26,0.2]   |\n",
            "|2.418|752.0   |1504.0|734.0   |3.2705|4.77    |2.05    |0.21      |[752.0,1504.0,734.0,3.2704999446868896,4.77,2.05,0.21] |\n",
            "|2.135|474.0   |1098.0|468.0   |3.075 |5.32    |2.35    |0.19      |[474.0,1098.0,468.0,3.075000047683716,5.32,2.35,0.19]  |\n",
            "|1.913|191.0   |345.0 |174.0   |2.6736|4.0     |1.98    |0.27      |[191.0,345.0,174.0,2.6735999584198,4.0,1.98,0.27]      |\n",
            "|1.592|626.0   |1212.0|620.0   |1.9167|4.26    |1.95    |0.24      |[626.0,1212.0,620.0,1.916700005531311,4.26,1.95,0.24]  |\n",
            "|1.4  |283.0   |697.0 |264.0   |2.125 |4.24    |2.64    |0.25      |[283.0,697.0,264.0,2.125,4.24,2.64,0.25]               |\n",
            "|1.525|347.0   |793.0 |331.0   |2.775 |5.94    |2.4     |0.18      |[347.0,793.0,331.0,2.7750000953674316,5.94,2.4,0.18]   |\n",
            "|1.555|293.0   |648.0 |303.0   |2.1202|4.05    |2.14    |0.24      |[293.0,648.0,303.0,2.1201999187469482,4.05,2.14,0.24]  |\n",
            "|1.587|455.0   |990.0 |419.0   |1.9911|5.34    |2.36    |0.2       |[455.0,990.0,419.0,1.9910999536514282,5.34,2.36,0.2]   |\n",
            "|1.629|298.0   |690.0 |275.0   |2.6033|5.47    |2.51    |0.2       |[298.0,690.0,275.0,2.603300094604492,5.47,2.51,0.2]    |\n",
            "+-----+--------+------+--------+------+--------+--------+----------+-------------------------------------------------------+\n",
            "only showing top 20 rows\n",
            "\n"
          ]
        }
      ]
    },
    {
      "cell_type": "code",
      "source": [
        "# Initialize the `standardScaler`\n",
        "standardScaler = StandardScaler(inputCol=\"features\", outputCol=\"features_scaled\")"
      ],
      "metadata": {
        "id": "T7P5Ohyz5Qkl"
      },
      "execution_count": 33,
      "outputs": []
    },
    {
      "cell_type": "code",
      "source": [
        "# Fit the DataFrame to the scaler\n",
        "scaled_df = standardScaler.fit(assembled_df).transform(assembled_df)\n"
      ],
      "metadata": {
        "id": "RQxsT_oW5X3C"
      },
      "execution_count": 34,
      "outputs": []
    },
    {
      "cell_type": "code",
      "source": [
        "# Inspect the result\n",
        "scaled_df.select(\"features\", \"features_scaled\").show(10, truncate=False)"
      ],
      "metadata": {
        "colab": {
          "base_uri": "https://localhost:8080/"
        },
        "id": "gXSC_imQ5dty",
        "outputId": "b62639cc-c9ee-486d-ce50-9cac9969f457"
      },
      "execution_count": 35,
      "outputs": [
        {
          "output_type": "stream",
          "name": "stdout",
          "text": [
            "+-------------------------------------------------------+--------------------------------------------------------------------------------------------------------------------------------------+\n",
            "|features                                               |features_scaled                                                                                                                       |\n",
            "+-------------------------------------------------------+--------------------------------------------------------------------------------------------------------------------------------------+\n",
            "|[129.0,322.0,126.0,8.325200080871582,6.98,2.56,0.15]   |[0.30623297630686513,0.2843362208866199,0.3295584480852433,4.38209543579743,2.8211223886115664,0.24648542140099877,2.5828740130262697]|\n",
            "|[1106.0,2401.0,1138.0,8.301400184631348,6.24,2.11,0.16]|[2.6255323394991694,2.1201592122632746,2.9764882057222772,4.36956799913841,2.522034914747303,0.20315790592035446,2.755065613894688]   |\n",
            "|[190.0,496.0,177.0,7.257400035858154,8.29,2.8,0.13]    |[0.451040817816313,0.4379837439744208,0.4629511532626037,3.820042673324032,3.3505880518037077,0.2695934296573424,2.238490811289434]   |\n",
            "|[235.0,558.0,219.0,5.643099784851074,5.82,2.55,0.18]   |[0.557866274667545,0.4927317119712234,0.5728039692910182,2.970331231769803,2.3522825647162344,0.2455225877236511,3.099448815631524]   |\n",
            "|[280.0,565.0,259.0,3.8461999893188477,6.28,2.18,0.17]  |[0.664691731518777,0.4989129341644108,0.6774256988418891,2.024505748166202,2.538201805226452,0.20989774166178804,2.9272572147631064]  |\n",
            "|[213.0,413.0,193.0,4.036799907684326,4.76,2.14,0.23]   |[0.5056404957624983,0.364692109398056,0.5047998450829521,2.124830908428931,1.9238599670187757,0.20604640695239743,3.960406819973614]  |\n",
            "|[489.0,1094.0,514.0,3.65910005569458,4.93,2.13,0.19]   |[1.1608366311167213,0.9660367256210006,1.344389224728691,1.9260228580003875,1.9925692515551605,0.20508357327504975,3.271640416499942] |\n",
            "|[687.0,1157.0,647.0,3.119999885559082,4.8,1.79,0.22]   |[1.6308686412621423,1.021667725359687,1.6922564754853369,1.6422593001231023,1.9400268574979251,0.1723472282452296,3.788215219105196]  |\n",
            "|[665.0,1206.0,595.0,2.080399990081787,4.29,2.03,0.26]  |[1.5786428623570954,1.0649362807119989,1.5562482270692046,1.0950501144251168,1.7338990038887707,0.19545523650157323,4.476981622578868]|\n",
            "|[707.0,1551.0,714.0,3.691200017929077,4.97,2.17,0.2]   |[1.678346622084912,1.3695822316619488,1.8674978724830456,1.9429191603871925,2.00873614203431,0.20893490798444037,3.44383201736836]    |\n",
            "+-------------------------------------------------------+--------------------------------------------------------------------------------------------------------------------------------------+\n",
            "only showing top 10 rows\n",
            "\n"
          ]
        }
      ]
    },
    {
      "cell_type": "code",
      "source": [
        "# Split the data into train and test sets\n",
        "train_data, test_data = scaled_df.randomSplit([.8,.2], seed=rnd_seed)"
      ],
      "metadata": {
        "id": "3UDVr9uO5eON"
      },
      "execution_count": 36,
      "outputs": []
    },
    {
      "cell_type": "code",
      "source": [
        "train_data.columns"
      ],
      "metadata": {
        "colab": {
          "base_uri": "https://localhost:8080/"
        },
        "id": "Ppzt3Z6O5jKu",
        "outputId": "80e0e59b-67de-4ba4-d5b6-736af72f8fc1"
      },
      "execution_count": 37,
      "outputs": [
        {
          "output_type": "execute_result",
          "data": {
            "text/plain": [
              "['medhv',\n",
              " 'totbdrms',\n",
              " 'pop',\n",
              " 'houshlds',\n",
              " 'medinc',\n",
              " 'rmsperhh',\n",
              " 'popperhh',\n",
              " 'bdrmsperrm',\n",
              " 'features',\n",
              " 'features_scaled']"
            ]
          },
          "metadata": {},
          "execution_count": 37
        }
      ]
    },
    {
      "cell_type": "code",
      "source": [
        "# Initialize `lr`\n",
        "lr = (LinearRegression(featuresCol='features_scaled', labelCol=\"medhv\", predictionCol='predmedhv', \n",
        "                               maxIter=10, regParam=0.3, elasticNetParam=0.8, standardization=False))"
      ],
      "metadata": {
        "id": "A8YW_tZo5o0O"
      },
      "execution_count": 38,
      "outputs": []
    },
    {
      "cell_type": "code",
      "source": [
        "# Fit the data to the model\n",
        "linearModel = lr.fit(train_data)"
      ],
      "metadata": {
        "id": "4ErgBsFl5080"
      },
      "execution_count": 39,
      "outputs": []
    },
    {
      "cell_type": "code",
      "source": [
        "# Coefficients for the model\n",
        "linearModel.coefficients\n",
        "featureCols"
      ],
      "metadata": {
        "colab": {
          "base_uri": "https://localhost:8080/"
        },
        "id": "kOc_7Uzd53Wg",
        "outputId": "3d0ebf2b-d117-48c9-d5e0-293365b4240b"
      },
      "execution_count": 40,
      "outputs": [
        {
          "output_type": "execute_result",
          "data": {
            "text/plain": [
              "DenseVector([0.0, 0.0, 0.0, 0.5262, 0.0, 0.0, 0.0])"
            ]
          },
          "metadata": {},
          "execution_count": 40
        },
        {
          "output_type": "execute_result",
          "data": {
            "text/plain": [
              "['totbdrms', 'pop', 'houshlds', 'medinc', 'rmsperhh', 'popperhh', 'bdrmsperrm']"
            ]
          },
          "metadata": {},
          "execution_count": 40
        }
      ]
    },
    {
      "cell_type": "code",
      "source": [
        "# Intercept for the model\n",
        "linearModel.intercept"
      ],
      "metadata": {
        "colab": {
          "base_uri": "https://localhost:8080/"
        },
        "id": "R2tuKFjh6Vv8",
        "outputId": "56d2e6c8-5b8d-42ad-9d5a-438a7c217c1a"
      },
      "execution_count": 41,
      "outputs": [
        {
          "output_type": "execute_result",
          "data": {
            "text/plain": [
              "1.001383351659608"
            ]
          },
          "metadata": {},
          "execution_count": 41
        }
      ]
    },
    {
      "cell_type": "code",
      "source": [
        "coeff_df = pd.DataFrame({\"Feature\": [\"Intercept\"] + featureCols, \"Co-efficients\": np.insert(linearModel.coefficients.toArray(), 0, linearModel.intercept)})\n",
        "coeff_df = coeff_df[[\"Feature\", \"Co-efficients\"]]"
      ],
      "metadata": {
        "id": "CRKH6fjs6DFa"
      },
      "execution_count": 42,
      "outputs": []
    },
    {
      "cell_type": "code",
      "source": [
        "coeff_df"
      ],
      "metadata": {
        "colab": {
          "base_uri": "https://localhost:8080/",
          "height": 300
        },
        "id": "pV-rBpwU6PDV",
        "outputId": "7f96531f-84cc-4b0e-bb10-43d81d5e6a84"
      },
      "execution_count": 43,
      "outputs": [
        {
          "output_type": "execute_result",
          "data": {
            "text/plain": [
              "      Feature  Co-efficients\n",
              "0   Intercept       1.001383\n",
              "1    totbdrms       0.000000\n",
              "2         pop       0.000000\n",
              "3    houshlds       0.000000\n",
              "4      medinc       0.526157\n",
              "5    rmsperhh       0.000000\n",
              "6    popperhh       0.000000\n",
              "7  bdrmsperrm       0.000000"
            ],
            "text/html": [
              "\n",
              "  <div id=\"df-4f86aa25-d3bb-469d-8ba6-0f79685cdb04\">\n",
              "    <div class=\"colab-df-container\">\n",
              "      <div>\n",
              "<style scoped>\n",
              "    .dataframe tbody tr th:only-of-type {\n",
              "        vertical-align: middle;\n",
              "    }\n",
              "\n",
              "    .dataframe tbody tr th {\n",
              "        vertical-align: top;\n",
              "    }\n",
              "\n",
              "    .dataframe thead th {\n",
              "        text-align: right;\n",
              "    }\n",
              "</style>\n",
              "<table border=\"1\" class=\"dataframe\">\n",
              "  <thead>\n",
              "    <tr style=\"text-align: right;\">\n",
              "      <th></th>\n",
              "      <th>Feature</th>\n",
              "      <th>Co-efficients</th>\n",
              "    </tr>\n",
              "  </thead>\n",
              "  <tbody>\n",
              "    <tr>\n",
              "      <th>0</th>\n",
              "      <td>Intercept</td>\n",
              "      <td>1.001383</td>\n",
              "    </tr>\n",
              "    <tr>\n",
              "      <th>1</th>\n",
              "      <td>totbdrms</td>\n",
              "      <td>0.000000</td>\n",
              "    </tr>\n",
              "    <tr>\n",
              "      <th>2</th>\n",
              "      <td>pop</td>\n",
              "      <td>0.000000</td>\n",
              "    </tr>\n",
              "    <tr>\n",
              "      <th>3</th>\n",
              "      <td>houshlds</td>\n",
              "      <td>0.000000</td>\n",
              "    </tr>\n",
              "    <tr>\n",
              "      <th>4</th>\n",
              "      <td>medinc</td>\n",
              "      <td>0.526157</td>\n",
              "    </tr>\n",
              "    <tr>\n",
              "      <th>5</th>\n",
              "      <td>rmsperhh</td>\n",
              "      <td>0.000000</td>\n",
              "    </tr>\n",
              "    <tr>\n",
              "      <th>6</th>\n",
              "      <td>popperhh</td>\n",
              "      <td>0.000000</td>\n",
              "    </tr>\n",
              "    <tr>\n",
              "      <th>7</th>\n",
              "      <td>bdrmsperrm</td>\n",
              "      <td>0.000000</td>\n",
              "    </tr>\n",
              "  </tbody>\n",
              "</table>\n",
              "</div>\n",
              "      <button class=\"colab-df-convert\" onclick=\"convertToInteractive('df-4f86aa25-d3bb-469d-8ba6-0f79685cdb04')\"\n",
              "              title=\"Convert this dataframe to an interactive table.\"\n",
              "              style=\"display:none;\">\n",
              "        \n",
              "  <svg xmlns=\"http://www.w3.org/2000/svg\" height=\"24px\"viewBox=\"0 0 24 24\"\n",
              "       width=\"24px\">\n",
              "    <path d=\"M0 0h24v24H0V0z\" fill=\"none\"/>\n",
              "    <path d=\"M18.56 5.44l.94 2.06.94-2.06 2.06-.94-2.06-.94-.94-2.06-.94 2.06-2.06.94zm-11 1L8.5 8.5l.94-2.06 2.06-.94-2.06-.94L8.5 2.5l-.94 2.06-2.06.94zm10 10l.94 2.06.94-2.06 2.06-.94-2.06-.94-.94-2.06-.94 2.06-2.06.94z\"/><path d=\"M17.41 7.96l-1.37-1.37c-.4-.4-.92-.59-1.43-.59-.52 0-1.04.2-1.43.59L10.3 9.45l-7.72 7.72c-.78.78-.78 2.05 0 2.83L4 21.41c.39.39.9.59 1.41.59.51 0 1.02-.2 1.41-.59l7.78-7.78 2.81-2.81c.8-.78.8-2.07 0-2.86zM5.41 20L4 18.59l7.72-7.72 1.47 1.35L5.41 20z\"/>\n",
              "  </svg>\n",
              "      </button>\n",
              "      \n",
              "  <style>\n",
              "    .colab-df-container {\n",
              "      display:flex;\n",
              "      flex-wrap:wrap;\n",
              "      gap: 12px;\n",
              "    }\n",
              "\n",
              "    .colab-df-convert {\n",
              "      background-color: #E8F0FE;\n",
              "      border: none;\n",
              "      border-radius: 50%;\n",
              "      cursor: pointer;\n",
              "      display: none;\n",
              "      fill: #1967D2;\n",
              "      height: 32px;\n",
              "      padding: 0 0 0 0;\n",
              "      width: 32px;\n",
              "    }\n",
              "\n",
              "    .colab-df-convert:hover {\n",
              "      background-color: #E2EBFA;\n",
              "      box-shadow: 0px 1px 2px rgba(60, 64, 67, 0.3), 0px 1px 3px 1px rgba(60, 64, 67, 0.15);\n",
              "      fill: #174EA6;\n",
              "    }\n",
              "\n",
              "    [theme=dark] .colab-df-convert {\n",
              "      background-color: #3B4455;\n",
              "      fill: #D2E3FC;\n",
              "    }\n",
              "\n",
              "    [theme=dark] .colab-df-convert:hover {\n",
              "      background-color: #434B5C;\n",
              "      box-shadow: 0px 1px 3px 1px rgba(0, 0, 0, 0.15);\n",
              "      filter: drop-shadow(0px 1px 2px rgba(0, 0, 0, 0.3));\n",
              "      fill: #FFFFFF;\n",
              "    }\n",
              "  </style>\n",
              "\n",
              "      <script>\n",
              "        const buttonEl =\n",
              "          document.querySelector('#df-4f86aa25-d3bb-469d-8ba6-0f79685cdb04 button.colab-df-convert');\n",
              "        buttonEl.style.display =\n",
              "          google.colab.kernel.accessAllowed ? 'block' : 'none';\n",
              "\n",
              "        async function convertToInteractive(key) {\n",
              "          const element = document.querySelector('#df-4f86aa25-d3bb-469d-8ba6-0f79685cdb04');\n",
              "          const dataTable =\n",
              "            await google.colab.kernel.invokeFunction('convertToInteractive',\n",
              "                                                     [key], {});\n",
              "          if (!dataTable) return;\n",
              "\n",
              "          const docLinkHtml = 'Like what you see? Visit the ' +\n",
              "            '<a target=\"_blank\" href=https://colab.research.google.com/notebooks/data_table.ipynb>data table notebook</a>'\n",
              "            + ' to learn more about interactive tables.';\n",
              "          element.innerHTML = '';\n",
              "          dataTable['output_type'] = 'display_data';\n",
              "          await google.colab.output.renderOutput(dataTable, element);\n",
              "          const docLink = document.createElement('div');\n",
              "          docLink.innerHTML = docLinkHtml;\n",
              "          element.appendChild(docLink);\n",
              "        }\n",
              "      </script>\n",
              "    </div>\n",
              "  </div>\n",
              "  "
            ]
          },
          "metadata": {},
          "execution_count": 43
        }
      ]
    },
    {
      "cell_type": "code",
      "source": [
        "# Generate predictions\n",
        "predictions = linearModel.transform(test_data)"
      ],
      "metadata": {
        "id": "wdRhE3Rk6Tnb"
      },
      "execution_count": 44,
      "outputs": []
    },
    {
      "cell_type": "code",
      "source": [
        "# Extract the predictions and the \"known\" correct labels\n",
        "predandlabels = predictions.select(\"predmedhv\", \"medhv\")\n"
      ],
      "metadata": {
        "id": "j-KXlzwM6jKY"
      },
      "execution_count": 45,
      "outputs": []
    },
    {
      "cell_type": "code",
      "source": [
        "predandlabels.show()"
      ],
      "metadata": {
        "colab": {
          "base_uri": "https://localhost:8080/"
        },
        "id": "5VYwD-_G6muG",
        "outputId": "45770ed4-e092-4f18-cd0c-75fde03639c4"
      },
      "execution_count": 46,
      "outputs": [
        {
          "output_type": "stream",
          "name": "stdout",
          "text": [
            "+------------------+-------+\n",
            "|         predmedhv|  medhv|\n",
            "+------------------+-------+\n",
            "|1.1498290146733698|0.14999|\n",
            "| 1.303758290180578|  0.225|\n",
            "|1.7529725743151858|  0.225|\n",
            "|1.6094289295308721|  0.269|\n",
            "|1.5956645319495766|  0.344|\n",
            "|1.2917940087238424|  0.367|\n",
            "|1.8668547795751218|  0.375|\n",
            "|1.3694233397856368|  0.394|\n",
            "| 1.530553343912004|  0.398|\n",
            "|1.5715143715849273|  0.409|\n",
            "|1.3261913014043996|  0.417|\n",
            "|1.2299232046905868|  0.425|\n",
            "| 1.484164070093314|  0.425|\n",
            "|1.3510338217435216|   0.43|\n",
            "|1.2619110212709583|  0.436|\n",
            "|1.3350814464678742|   0.44|\n",
            "|1.4832778453641753|   0.44|\n",
            "|1.4337313361080326|  0.444|\n",
            "|1.3691187093204964|  0.445|\n",
            "|1.4752185586821598|  0.446|\n",
            "+------------------+-------+\n",
            "only showing top 20 rows\n",
            "\n"
          ]
        }
      ]
    },
    {
      "cell_type": "code",
      "source": [
        "# Get the RMSE\n",
        "print(\"RMSE: {0}\".format(linearModel.summary.rootMeanSquaredError))"
      ],
      "metadata": {
        "colab": {
          "base_uri": "https://localhost:8080/"
        },
        "id": "nUa3rSrz6pcY",
        "outputId": "fdea54cd-f148-4790-c186-87f11b4698dc"
      },
      "execution_count": 47,
      "outputs": [
        {
          "output_type": "stream",
          "name": "stdout",
          "text": [
            "RMSE: 0.881985204526886\n"
          ]
        }
      ]
    },
    {
      "cell_type": "code",
      "source": [
        "print(\"MAE: {0}\".format(linearModel.summary.meanAbsoluteError))"
      ],
      "metadata": {
        "colab": {
          "base_uri": "https://localhost:8080/"
        },
        "id": "R6DfpYAd6xb1",
        "outputId": "f2ef949b-10fa-4ada-be3e-cb6b9b2ad24e"
      },
      "execution_count": 48,
      "outputs": [
        {
          "output_type": "stream",
          "name": "stdout",
          "text": [
            "MAE: 0.678289531991799\n"
          ]
        }
      ]
    },
    {
      "cell_type": "code",
      "source": [
        "# Get the R2\n",
        "print(\"R2: {0}\".format(linearModel.summary.r2))"
      ],
      "metadata": {
        "colab": {
          "base_uri": "https://localhost:8080/"
        },
        "id": "CpgOMzTp61M1",
        "outputId": "58aa76e1-f21e-4fb6-9364-39ff96fc184e"
      },
      "execution_count": 49,
      "outputs": [
        {
          "output_type": "stream",
          "name": "stdout",
          "text": [
            "R2: 0.4180854895364574\n"
          ]
        }
      ]
    },
    {
      "cell_type": "code",
      "source": [
        "evaluator = RegressionEvaluator(predictionCol=\"predmedhv\", labelCol='medhv', metricName='rmse')\n",
        "print(\"RMSE: {0}\".format(evaluator.evaluate(predandlabels)))"
      ],
      "metadata": {
        "colab": {
          "base_uri": "https://localhost:8080/"
        },
        "id": "iixym0kB7E-s",
        "outputId": "6f5eb638-5cbb-4858-a41e-9ae767ce86a0"
      },
      "execution_count": 50,
      "outputs": [
        {
          "output_type": "stream",
          "name": "stdout",
          "text": [
            "RMSE: 0.8677342923034236\n"
          ]
        }
      ]
    },
    {
      "cell_type": "code",
      "source": [
        "evaluator = RegressionEvaluator(predictionCol=\"predmedhv\", labelCol='medhv', metricName='mae')\n",
        "print(\"MAE: {0}\".format(evaluator.evaluate(predandlabels)))"
      ],
      "metadata": {
        "colab": {
          "base_uri": "https://localhost:8080/"
        },
        "id": "v3Q99gUU7WBg",
        "outputId": "8663fc34-43b9-44fa-a48e-f6eb02187f53"
      },
      "execution_count": 51,
      "outputs": [
        {
          "output_type": "stream",
          "name": "stdout",
          "text": [
            "MAE: 0.673609774576463\n"
          ]
        }
      ]
    },
    {
      "cell_type": "code",
      "source": [
        "evaluator = RegressionEvaluator(predictionCol=\"predmedhv\", labelCol='medhv', metricName='r2')\n",
        "print(\"R2: {0}\".format(evaluator.evaluate(predandlabels)))"
      ],
      "metadata": {
        "colab": {
          "base_uri": "https://localhost:8080/"
        },
        "id": "UuWPvW2y7ZnY",
        "outputId": "35ed9f17-9184-4d16-b864-e50192a1db4d"
      },
      "execution_count": 52,
      "outputs": [
        {
          "output_type": "stream",
          "name": "stdout",
          "text": [
            "R2: 0.42517112885139363\n"
          ]
        }
      ]
    },
    {
      "cell_type": "code",
      "source": [
        "# mllib is old so the methods are available in rdd\n",
        "metrics = RegressionMetrics(predandlabels.rdd)"
      ],
      "metadata": {
        "colab": {
          "base_uri": "https://localhost:8080/"
        },
        "id": "dXZIJcK-7cOv",
        "outputId": "fd6f024f-e6d5-4b08-c4f1-df59b187339d"
      },
      "execution_count": 53,
      "outputs": [
        {
          "output_type": "stream",
          "name": "stderr",
          "text": [
            "/usr/local/lib/python3.7/dist-packages/pyspark/sql/context.py:159: FutureWarning: Deprecated in 3.0.0. Use SparkSession.builder.getOrCreate() instead.\n",
            "  FutureWarning,\n"
          ]
        }
      ]
    },
    {
      "cell_type": "code",
      "source": [
        "print(\"RMSE: {0}\".format(metrics.rootMeanSquaredError))\n"
      ],
      "metadata": {
        "colab": {
          "base_uri": "https://localhost:8080/"
        },
        "id": "zPQbTLin7fu_",
        "outputId": "57c92e2c-8cab-40b3-e95e-9ae98ad8b11a"
      },
      "execution_count": 54,
      "outputs": [
        {
          "output_type": "stream",
          "name": "stdout",
          "text": [
            "RMSE: 0.8677342923034236\n"
          ]
        }
      ]
    },
    {
      "cell_type": "code",
      "source": [
        "\n",
        "print(\"MAE: {0}\".format(metrics.meanAbsoluteError))\n"
      ],
      "metadata": {
        "colab": {
          "base_uri": "https://localhost:8080/"
        },
        "id": "2GsimIYc7wAF",
        "outputId": "63209cb2-a5bd-4509-8b39-9f030708a6a1"
      },
      "execution_count": 55,
      "outputs": [
        {
          "output_type": "stream",
          "name": "stdout",
          "text": [
            "MAE: 0.673609774576463\n"
          ]
        }
      ]
    },
    {
      "cell_type": "code",
      "source": [
        "print(\"R2: {0}\".format(metrics.r2))"
      ],
      "metadata": {
        "colab": {
          "base_uri": "https://localhost:8080/"
        },
        "id": "tgX3aRbm7xkG",
        "outputId": "4d4b7056-f2f9-48c8-ed09-34766807e7de"
      },
      "execution_count": 56,
      "outputs": [
        {
          "output_type": "stream",
          "name": "stdout",
          "text": [
            "R2: 0.42517112885139363\n"
          ]
        }
      ]
    },
    {
      "cell_type": "code",
      "source": [
        "spark.stop()    "
      ],
      "metadata": {
        "id": "JRVNR4jC7yGA"
      },
      "execution_count": 57,
      "outputs": []
    },
    {
      "cell_type": "code",
      "source": [
        ""
      ],
      "metadata": {
        "id": "GzfUEfAv77k9"
      },
      "execution_count": 57,
      "outputs": []
    }
  ]
}